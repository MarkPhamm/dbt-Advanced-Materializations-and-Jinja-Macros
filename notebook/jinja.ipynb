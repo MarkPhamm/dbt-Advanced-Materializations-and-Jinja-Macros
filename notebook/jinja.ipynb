{
 "cells": [
  {
   "cell_type": "code",
   "execution_count": 4,
   "metadata": {},
   "outputs": [],
   "source": [
    "import jinja2\n",
    "from jinja2 import Template\n",
    "environment = jinja2.Environment()\n",
    "\n"
   ]
  },
  {
   "cell_type": "code",
   "execution_count": 8,
   "metadata": {},
   "outputs": [
    {
     "name": "stdout",
     "output_type": "stream",
     "text": [
      "Hello, Puyn xinh vcl!\n"
     ]
    }
   ],
   "source": [
    "# Define a simple Jinja2 template\n",
    "template = Template(\"Hello, {{ name }} xinh vcl!\")\n",
    "\n",
    "# Render the template with a value for 'name'\n",
    "output = template.render(name=\"Puyn\")\n",
    "\n",
    "print(output)"
   ]
  },
  {
   "cell_type": "markdown",
   "metadata": {},
   "source": [
    "# String and number"
   ]
  },
  {
   "cell_type": "code",
   "execution_count": 16,
   "metadata": {},
   "outputs": [
    {
     "name": "stdout",
     "output_type": "stream",
     "text": [
      "\n",
      "\n",
      "\n",
      "\n",
      "\n",
      "Wow, Coolư\n",
      "This is Jinja\n",
      "I want to write dbt for 100 years\n"
     ]
    }
   ],
   "source": [
    "# string and number\n",
    "template = Template(\n",
    "\n",
    "# example of setting variable\n",
    "\"\"\"\n",
    "{% set my_cool_string = 'Wow, Cool' %}\n",
    "{% set my_2nd_cool_string = 'This is Jinja' %}\n",
    "{% set my_cool_number = 100%}\n",
    "\n",
    "{{ my_cool_string }}ư\n",
    "{{ my_2nd_cool_string}}\n",
    "I want to write dbt for {{my_cool_number}} years\n",
    "\"\"\")\n",
    "\n",
    "# Render the template\n",
    "output = template.render()\n",
    "\n",
    "print(output)"
   ]
  },
  {
   "cell_type": "markdown",
   "metadata": {},
   "source": [
    "# Commenting"
   ]
  },
  {
   "cell_type": "code",
   "execution_count": 17,
   "metadata": {},
   "outputs": [
    {
     "name": "stdout",
     "output_type": "stream",
     "text": [
      "\n",
      "\n"
     ]
    }
   ],
   "source": [
    "# commenting\n",
    "template = Template(\n",
    "\n",
    "# example of comment\n",
    "\"\"\"\n",
    "{#\n",
    "{% set my_cool_string = 'Wow, Cool' %}\n",
    "{% set my_2nd_cool_string = 'This is Jinja' %}\n",
    "{% set my_cool_number = 100%}\n",
    "\n",
    "{{ my_cool_string }}\n",
    "{{ my_2nd_cool_string}}\n",
    "I want to write dbt for {{my_cool_number}} years\n",
    "#}\n",
    "\"\"\")\n",
    "\n",
    "# Render the template\n",
    "output = template.render()\n",
    "\n",
    "print(output)"
   ]
  },
  {
   "cell_type": "markdown",
   "metadata": {},
   "source": [
    "# Lists and for loop"
   ]
  },
  {
   "cell_type": "code",
   "execution_count": 27,
   "metadata": {},
   "outputs": [
    {
     "name": "stdout",
     "output_type": "stream",
     "text": [
      "\n",
      "\n",
      "\n",
      "Puyn\n",
      "\n",
      "\n",
      "    My favorite animal is Puyn\n",
      "\n",
      "    My favorite animal is Pu\n",
      "\n",
      "    My favorite animal is Yin\n",
      "\n"
     ]
    }
   ],
   "source": [
    "# lists and for loop\n",
    "template = Template(\n",
    "\n",
    "# example of comment\n",
    "\"\"\"\n",
    "{% set my_animals = ['Puyn', 'Pu', 'Yin'] %}\n",
    "\n",
    "{{ my_animals[0] }}\n",
    "\n",
    "{% for animal in my_animals %}\n",
    "\n",
    "    My favorite animal is {{ animal }}\n",
    "    \n",
    "{% endfor %}\n",
    "\"\"\")\n",
    "\n",
    "# Render the template\n",
    "output = template.render()\n",
    "\n",
    "print(output)"
   ]
  },
  {
   "cell_type": "markdown",
   "metadata": {},
   "source": [
    "# Ifs statement"
   ]
  },
  {
   "cell_type": "code",
   "execution_count": 36,
   "metadata": {},
   "outputs": [
    {
     "name": "stdout",
     "output_type": "stream",
     "text": [
      "hot\n"
     ]
    }
   ],
   "source": [
    "# Define a Jinja2 template with {% set %}\n",
    "template = Template(\n",
    "\n",
    "# example of comment\n",
    "\"\"\"\n",
    "{%- set my_temp = 80 -%}\n",
    "\n",
    "{%- if my_temp > 70 -%}\n",
    "    hot\n",
    "{%- else -%}\n",
    "    cold \n",
    "{%- endif -%}\n",
    "\"\"\")\n",
    "\n",
    "# Render the template\n",
    "output = template.render()\n",
    "\n",
    "print(output)"
   ]
  },
  {
   "cell_type": "markdown",
   "metadata": {},
   "source": [
    "# For loop and Ifs Statements"
   ]
  },
  {
   "cell_type": "code",
   "execution_count": 51,
   "metadata": {},
   "outputs": [
    {
     "name": "stdout",
     "output_type": "stream",
     "text": [
      "Puyn is my Wife\n",
      "Poanh is my Friend\n",
      "Huy is my Friend\n",
      "\n"
     ]
    }
   ],
   "source": [
    "# Define a Jinja2 template with for loops\n",
    "template = Template(\n",
    "\n",
    "# example of comment\n",
    "\"\"\"\n",
    "{%- set puyn_family = [\"Puyn\", \"Poanh\", \"Huy\"] -%}\n",
    "\n",
    "{%- for member in puyn_family -%}\n",
    "    {%-if member == 'Puyn'-%}\n",
    "        {%- set relation = 'Wife' -%}\n",
    "    {%- else -%}\n",
    "        {%- set relation = 'Friend'-%}\n",
    "    {%- endif -%}\n",
    "    {{-member}} is my {{relation}}\n",
    "{% endfor %}\n",
    "\"\"\")\n",
    "\n",
    "# Render the template\n",
    "output = template.render()\n",
    "\n",
    "print(output)"
   ]
  },
  {
   "cell_type": "markdown",
   "metadata": {},
   "source": [
    "# Dictionary"
   ]
  },
  {
   "cell_type": "code",
   "execution_count": 52,
   "metadata": {},
   "outputs": [
    {
     "name": "stdout",
     "output_type": "stream",
     "text": [
      "Puyn is my Wife\n",
      "Poanh is my Friend\n",
      "Huy is my Friend\n",
      "\n"
     ]
    }
   ],
   "source": [
    "# Define a Jinja2 template with a dictionary\n",
    "template = Template(\n",
    "\n",
    "# example of comment\n",
    "\"\"\"\n",
    "{%- set family_relations = {\n",
    "    \"Puyn\": \"Wife\",\n",
    "    \"Poanh\": \"Friend\",\n",
    "    \"Huy\": \"Friend\"\n",
    "} -%}\n",
    "\n",
    "{%- for member, relation in family_relations.items() -%}\n",
    "    {{member}} is my {{relation}}\n",
    "{% endfor %}\n",
    "\"\"\")\n",
    "\n",
    "# Render the template\n",
    "output = template.render()\n",
    "\n",
    "print(output)"
   ]
  },
  {
   "cell_type": "markdown",
   "metadata": {},
   "source": [
    "# Macros"
   ]
  },
  {
   "cell_type": "code",
   "execution_count": 63,
   "metadata": {},
   "outputs": [
    {
     "name": "stdout",
     "output_type": "stream",
     "text": [
      "cents_to_dollars: round(1.0 * 100 / 100, 2)\n",
      "    \n"
     ]
    }
   ],
   "source": [
    "template = Template( \n",
    "    \"\"\"\n",
    "    {%- macro cents_to_dollars(column_name, decimal_places=2) -%}\n",
    "        round(1.0 * {{ column_name }} / 100, {{ decimal_places }})\n",
    "    {%- endmacro -%}\n",
    "\n",
    "    cents_to_dollars: {{ cents_to_dollars(100) }}\n",
    "    \"\"\"\n",
    ")\n",
    "\n",
    "# Render the template\n",
    "output = template.render()\n",
    "\n",
    "print(output)"
   ]
  }
 ],
 "metadata": {
  "kernelspec": {
   "display_name": ".venv",
   "language": "python",
   "name": "python3"
  },
  "language_info": {
   "codemirror_mode": {
    "name": "ipython",
    "version": 3
   },
   "file_extension": ".py",
   "mimetype": "text/x-python",
   "name": "python",
   "nbconvert_exporter": "python",
   "pygments_lexer": "ipython3",
   "version": "3.12.9"
  }
 },
 "nbformat": 4,
 "nbformat_minor": 2
}
